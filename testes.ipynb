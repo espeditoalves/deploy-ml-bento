{
 "cells": [
  {
   "cell_type": "code",
   "execution_count": 1,
   "metadata": {},
   "outputs": [
    {
     "name": "stdout",
     "output_type": "stream",
     "text": [
      "Dados originais com PCs:\n",
      "   sepal length (cm)  sepal width (cm)  petal length (cm)  petal width (cm)  \\\n",
      "0                5.1               3.5                1.4               0.2   \n",
      "1                4.9               3.0                1.4               0.2   \n",
      "2                4.7               3.2                1.3               0.2   \n",
      "3                4.6               3.1                1.5               0.2   \n",
      "4                5.0               3.6                1.4               0.2   \n",
      "\n",
      "        PC1       PC2  \n",
      "0 -2.684126  0.319397  \n",
      "1 -2.714142 -0.177001  \n",
      "2 -2.888991 -0.144949  \n",
      "3 -2.745343 -0.318299  \n",
      "4 -2.728717  0.326755  \n"
     ]
    }
   ],
   "source": [
    "import pandas as pd\n",
    "import numpy as np\n",
    "from sklearn.decomposition import PCA\n",
    "from sklearn.datasets import load_iris\n",
    "\n",
    "# Carregando o conjunto de dados Iris como exemplo\n",
    "iris = load_iris()\n",
    "X = iris.data\n",
    "columns = iris.feature_names\n",
    "\n",
    "# Criando um DataFrame do Pandas\n",
    "df = pd.DataFrame(X, columns=columns)\n",
    "\n",
    "# Inicializando e ajustando o PCA com 2 componentes principais\n",
    "pca = PCA(n_components=2)\n",
    "pca.fit(df)\n",
    "\n",
    "# Transformando os dados originais no novo espaço de características\n",
    "df_pca = pca.transform(df)\n",
    "\n",
    "# Criando um novo DataFrame para os dados transformados\n",
    "df_pca = pd.DataFrame(data=df_pca, columns=['PC1', 'PC2'])\n",
    "\n",
    "# Concatenando os PCs com o DataFrame original para visualização\n",
    "df_final = pd.concat([df, df_pca], axis=1)\n",
    "\n",
    "# Visualizando os resultados\n",
    "print(\"Dados originais com PCs:\")\n",
    "print(df_final.head())\n"
   ]
  },
  {
   "cell_type": "code",
   "execution_count": 2,
   "metadata": {},
   "outputs": [
    {
     "data": {
      "text/html": [
       "<div>\n",
       "<style scoped>\n",
       "    .dataframe tbody tr th:only-of-type {\n",
       "        vertical-align: middle;\n",
       "    }\n",
       "\n",
       "    .dataframe tbody tr th {\n",
       "        vertical-align: top;\n",
       "    }\n",
       "\n",
       "    .dataframe thead th {\n",
       "        text-align: right;\n",
       "    }\n",
       "</style>\n",
       "<table border=\"1\" class=\"dataframe\">\n",
       "  <thead>\n",
       "    <tr style=\"text-align: right;\">\n",
       "      <th></th>\n",
       "      <th>sepal length (cm)</th>\n",
       "      <th>sepal width (cm)</th>\n",
       "      <th>petal length (cm)</th>\n",
       "      <th>petal width (cm)</th>\n",
       "    </tr>\n",
       "  </thead>\n",
       "  <tbody>\n",
       "    <tr>\n",
       "      <th>2</th>\n",
       "      <td>4.7</td>\n",
       "      <td>3.2</td>\n",
       "      <td>1.3</td>\n",
       "      <td>0.2</td>\n",
       "    </tr>\n",
       "    <tr>\n",
       "      <th>3</th>\n",
       "      <td>4.6</td>\n",
       "      <td>3.1</td>\n",
       "      <td>1.5</td>\n",
       "      <td>0.2</td>\n",
       "    </tr>\n",
       "  </tbody>\n",
       "</table>\n",
       "</div>"
      ],
      "text/plain": [
       "   sepal length (cm)  sepal width (cm)  petal length (cm)  petal width (cm)\n",
       "2                4.7               3.2                1.3               0.2\n",
       "3                4.6               3.1                1.5               0.2"
      ]
     },
     "execution_count": 2,
     "metadata": {},
     "output_type": "execute_result"
    }
   ],
   "source": [
    "teste = df.iloc[2:4]\n",
    "teste"
   ]
  },
  {
   "cell_type": "code",
   "execution_count": 3,
   "metadata": {},
   "outputs": [
    {
     "data": {
      "text/plain": [
       "array([[-2.88899057, -0.14494943],\n",
       "       [-2.74534286, -0.31829898]])"
      ]
     },
     "execution_count": 3,
     "metadata": {},
     "output_type": "execute_result"
    }
   ],
   "source": [
    "pca.transform(teste)"
   ]
  },
  {
   "cell_type": "code",
   "execution_count": null,
   "metadata": {},
   "outputs": [],
   "source": []
  },
  {
   "cell_type": "code",
   "execution_count": 4,
   "metadata": {},
   "outputs": [],
   "source": [
    "import bentoml \n",
    "import pandas as pd \n",
    "from bentoml.io import NumpyNdarray, PandasDataFrame, JSON \n",
    "import numpy as np \n",
    "from pydantic import BaseModel\n",
    "import pickle"
   ]
  },
  {
   "cell_type": "code",
   "execution_count": 5,
   "metadata": {},
   "outputs": [],
   "source": [
    "def load_scaler():\n",
    "    try:\n",
    "        with open(\"processors/scaler.pkl\", \"rb\") as s:\n",
    "            scaler = pickle.load(s)\n",
    "        print(\"Scaler carregado com sucesso.\")\n",
    "        return scaler  # Retorna o scaler carregado\n",
    "    except FileNotFoundError:\n",
    "        print(\"Arquivo não encontrado. Verifique o caminho do arquivo.\")\n",
    "        return None\n",
    "    except Exception as e:\n",
    "        print(f\"Erro ao carregar scaler: {e}\")\n",
    "        return None\n",
    "\n",
    "def load_pca():\n",
    "    try:\n",
    "        with open(\"processors/PCA.pkl\", \"rb\") as p:\n",
    "            pca = pickle.load(p)\n",
    "        print(\"PCA carregado com sucesso.\")\n",
    "        print(type(pca))\n",
    "        return pca  # Retorna o PCA carregado\n",
    "    except FileNotFoundError:\n",
    "        print(\"Arquivo não encontrado. Verifique o caminho do arquivo.\")\n",
    "        return None\n",
    "    except Exception as e:\n",
    "        print(f\"Erro ao carregar PCA: {e}\")\n",
    "        return None\n",
    "    \n",
    "class Customer(BaseModel):\n",
    "    Income: float = 53138\n",
    "    Recency: int = 58\n",
    "    NumWebVisitsMonth: int = 7\n",
    "    Complain: int = 0\n",
    "    age: int = 64\n",
    "    total_purchases: int = 25\n",
    "    enrollment_years: int = 10\n",
    "    family_size: int = 1"
   ]
  },
  {
   "cell_type": "code",
   "execution_count": 6,
   "metadata": {},
   "outputs": [
    {
     "data": {
      "text/html": [
       "<div>\n",
       "<style scoped>\n",
       "    .dataframe tbody tr th:only-of-type {\n",
       "        vertical-align: middle;\n",
       "    }\n",
       "\n",
       "    .dataframe tbody tr th {\n",
       "        vertical-align: top;\n",
       "    }\n",
       "\n",
       "    .dataframe thead th {\n",
       "        text-align: right;\n",
       "    }\n",
       "</style>\n",
       "<table border=\"1\" class=\"dataframe\">\n",
       "  <thead>\n",
       "    <tr style=\"text-align: right;\">\n",
       "      <th></th>\n",
       "      <th>Income</th>\n",
       "      <th>Recency</th>\n",
       "      <th>NumWebVisitsMonth</th>\n",
       "      <th>Complain</th>\n",
       "      <th>age</th>\n",
       "      <th>total_purchases</th>\n",
       "      <th>enrollment_years</th>\n",
       "      <th>family_size</th>\n",
       "    </tr>\n",
       "  </thead>\n",
       "  <tbody>\n",
       "    <tr>\n",
       "      <th>0</th>\n",
       "      <td>53138</td>\n",
       "      <td>58</td>\n",
       "      <td>7</td>\n",
       "      <td>0</td>\n",
       "      <td>64</td>\n",
       "      <td>25</td>\n",
       "      <td>10</td>\n",
       "      <td>1</td>\n",
       "    </tr>\n",
       "  </tbody>\n",
       "</table>\n",
       "</div>"
      ],
      "text/plain": [
       "   Income  Recency  NumWebVisitsMonth  Complain  age  total_purchases  \\\n",
       "0   53138       58                  7         0   64               25   \n",
       "\n",
       "   enrollment_years  family_size  \n",
       "0                10            1  "
      ]
     },
     "execution_count": 6,
     "metadata": {},
     "output_type": "execute_result"
    }
   ],
   "source": [
    "df_teste = pd.DataFrame([Customer().dict()])\n",
    "df_teste"
   ]
  },
  {
   "cell_type": "code",
   "execution_count": 7,
   "metadata": {},
   "outputs": [
    {
     "name": "stdout",
     "output_type": "stream",
     "text": [
      "Scaler carregado com sucesso.\n"
     ]
    },
    {
     "data": {
      "text/html": [
       "<div>\n",
       "<style scoped>\n",
       "    .dataframe tbody tr th:only-of-type {\n",
       "        vertical-align: middle;\n",
       "    }\n",
       "\n",
       "    .dataframe tbody tr th {\n",
       "        vertical-align: top;\n",
       "    }\n",
       "\n",
       "    .dataframe thead th {\n",
       "        text-align: right;\n",
       "    }\n",
       "</style>\n",
       "<table border=\"1\" class=\"dataframe\">\n",
       "  <thead>\n",
       "    <tr style=\"text-align: right;\">\n",
       "      <th></th>\n",
       "      <th>Income</th>\n",
       "      <th>Recency</th>\n",
       "      <th>NumWebVisitsMonth</th>\n",
       "      <th>Complain</th>\n",
       "      <th>age</th>\n",
       "      <th>total_purchases</th>\n",
       "      <th>enrollment_years</th>\n",
       "      <th>family_size</th>\n",
       "    </tr>\n",
       "  </thead>\n",
       "  <tbody>\n",
       "    <tr>\n",
       "      <th>0</th>\n",
       "      <td>0.054789</td>\n",
       "      <td>0.310353</td>\n",
       "      <td>0.692181</td>\n",
       "      <td>-0.09552</td>\n",
       "      <td>1.018352</td>\n",
       "      <td>1.317945</td>\n",
       "      <td>1.499086</td>\n",
       "      <td>-1.758359</td>\n",
       "    </tr>\n",
       "  </tbody>\n",
       "</table>\n",
       "</div>"
      ],
      "text/plain": [
       "     Income   Recency  NumWebVisitsMonth  Complain       age  total_purchases  \\\n",
       "0  0.054789  0.310353           0.692181  -0.09552  1.018352         1.317945   \n",
       "\n",
       "   enrollment_years  family_size  \n",
       "0          1.499086    -1.758359  "
      ]
     },
     "execution_count": 7,
     "metadata": {},
     "output_type": "execute_result"
    }
   ],
   "source": [
    "scaler = load_scaler()\n",
    "scaled_df = pd.DataFrame(scaler.transform(df_teste), columns=df_teste.columns)\n",
    "scaled_df"
   ]
  },
  {
   "cell_type": "code",
   "execution_count": 8,
   "metadata": {},
   "outputs": [
    {
     "name": "stdout",
     "output_type": "stream",
     "text": [
      "PCA carregado com sucesso.\n",
      "<class 'sklearn.decomposition._pca.PCA'>\n"
     ]
    },
    {
     "data": {
      "text/html": [
       "<div>\n",
       "<style scoped>\n",
       "    .dataframe tbody tr th:only-of-type {\n",
       "        vertical-align: middle;\n",
       "    }\n",
       "\n",
       "    .dataframe tbody tr th {\n",
       "        vertical-align: top;\n",
       "    }\n",
       "\n",
       "    .dataframe thead th {\n",
       "        text-align: right;\n",
       "    }\n",
       "</style>\n",
       "<table border=\"1\" class=\"dataframe\">\n",
       "  <thead>\n",
       "    <tr style=\"text-align: right;\">\n",
       "      <th></th>\n",
       "      <th>0</th>\n",
       "      <th>1</th>\n",
       "      <th>2</th>\n",
       "    </tr>\n",
       "  </thead>\n",
       "  <tbody>\n",
       "    <tr>\n",
       "      <th>0</th>\n",
       "      <td>1.028136</td>\n",
       "      <td>1.982411</td>\n",
       "      <td>-0.570848</td>\n",
       "    </tr>\n",
       "  </tbody>\n",
       "</table>\n",
       "</div>"
      ],
      "text/plain": [
       "          0         1         2\n",
       "0  1.028136  1.982411 -0.570848"
      ]
     },
     "execution_count": 8,
     "metadata": {},
     "output_type": "execute_result"
    }
   ],
   "source": [
    "pca_teste = load_pca()\n",
    "pd.DataFrame(pca_teste.transform(scaled_df))"
   ]
  }
 ],
 "metadata": {
  "kernelspec": {
   "display_name": ".venv",
   "language": "python",
   "name": "python3"
  },
  "language_info": {
   "codemirror_mode": {
    "name": "ipython",
    "version": 3
   },
   "file_extension": ".py",
   "mimetype": "text/x-python",
   "name": "python",
   "nbconvert_exporter": "python",
   "pygments_lexer": "ipython3",
   "version": "3.11.7"
  }
 },
 "nbformat": 4,
 "nbformat_minor": 2
}
